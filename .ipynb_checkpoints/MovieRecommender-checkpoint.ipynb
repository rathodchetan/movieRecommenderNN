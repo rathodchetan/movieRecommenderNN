{
 "cells": [
  {
   "cell_type": "code",
   "execution_count": 86,
   "metadata": {},
   "outputs": [],
   "source": [
    "from collections import Counter\n",
    "from sklearn.model_selection import train_test_split\n",
    "from scipy.sparse import csc_matrix\n",
    "import pandas as pd\n",
    "import numpy as np\n",
    "from zipfile import ZipFile\n",
    "import tensorflow as tf\n",
    "from tensorflow import keras\n",
    "from tensorflow.keras import layers\n",
    "from pathlib import Path\n",
    "import matplotlib.pyplot as plt"
   ]
  },
  {
   "cell_type": "code",
   "execution_count": 87,
   "metadata": {},
   "outputs": [],
   "source": [
    "movielens_data_file_url = (\n",
    "    \"http://files.grouplens.org/datasets/movielens/ml-latest-small.zip\"\n",
    ")\n",
    "movielens_zipped_file = keras.utils.get_file(\n",
    "    \"ml-latest-small.zip\", movielens_data_file_url, extract=False\n",
    ")\n",
    "keras_datasets_path = Path(movielens_zipped_file).parents[0]\n",
    "movielens_dir = keras_datasets_path / \"ml-latest-small\"\n",
    "\n",
    "# Only extract the data the first time the script is run.\n",
    "if not movielens_dir.exists():\n",
    "    with ZipFile(movielens_zipped_file, \"r\") as zip:\n",
    "        # Extract files\n",
    "        print(\"Extracting all the files now...\")\n",
    "        zip.extractall(path=keras_datasets_path)\n",
    "        print(\"Done!\")\n",
    "\n",
    "ratings_file = movielens_dir / \"ratings.csv\"\n",
    "ratings_df = pd.read_csv(ratings_file)"
   ]
  },
  {
   "cell_type": "code",
   "execution_count": 88,
   "metadata": {},
   "outputs": [],
   "source": [
    "ratings_df.head()\n",
    "ratings_df = ratings_df.drop(['timestamp'], axis=1)"
   ]
  },
  {
   "cell_type": "code",
   "execution_count": 89,
   "metadata": {},
   "outputs": [
    {
     "data": {
      "text/html": [
       "<div>\n",
       "<style scoped>\n",
       "    .dataframe tbody tr th:only-of-type {\n",
       "        vertical-align: middle;\n",
       "    }\n",
       "\n",
       "    .dataframe tbody tr th {\n",
       "        vertical-align: top;\n",
       "    }\n",
       "\n",
       "    .dataframe thead th {\n",
       "        text-align: right;\n",
       "    }\n",
       "</style>\n",
       "<table border=\"1\" class=\"dataframe\">\n",
       "  <thead>\n",
       "    <tr style=\"text-align: right;\">\n",
       "      <th></th>\n",
       "      <th>userId</th>\n",
       "      <th>movieId</th>\n",
       "      <th>rating</th>\n",
       "    </tr>\n",
       "  </thead>\n",
       "  <tbody>\n",
       "    <tr>\n",
       "      <th>0</th>\n",
       "      <td>1</td>\n",
       "      <td>1</td>\n",
       "      <td>4.0</td>\n",
       "    </tr>\n",
       "    <tr>\n",
       "      <th>1</th>\n",
       "      <td>1</td>\n",
       "      <td>3</td>\n",
       "      <td>4.0</td>\n",
       "    </tr>\n",
       "    <tr>\n",
       "      <th>2</th>\n",
       "      <td>1</td>\n",
       "      <td>6</td>\n",
       "      <td>4.0</td>\n",
       "    </tr>\n",
       "    <tr>\n",
       "      <th>3</th>\n",
       "      <td>1</td>\n",
       "      <td>47</td>\n",
       "      <td>5.0</td>\n",
       "    </tr>\n",
       "    <tr>\n",
       "      <th>4</th>\n",
       "      <td>1</td>\n",
       "      <td>50</td>\n",
       "      <td>5.0</td>\n",
       "    </tr>\n",
       "  </tbody>\n",
       "</table>\n",
       "</div>"
      ],
      "text/plain": [
       "   userId  movieId  rating\n",
       "0       1        1     4.0\n",
       "1       1        3     4.0\n",
       "2       1        6     4.0\n",
       "3       1       47     5.0\n",
       "4       1       50     5.0"
      ]
     },
     "execution_count": 89,
     "metadata": {},
     "output_type": "execute_result"
    }
   ],
   "source": [
    "ratings_df.head()"
   ]
  },
  {
   "cell_type": "code",
   "execution_count": 90,
   "metadata": {},
   "outputs": [
    {
     "name": "stdout",
     "output_type": "stream",
     "text": [
      "(100836, 3)\n",
      "0.5\n"
     ]
    }
   ],
   "source": [
    "print(ratings_df.shape)\n",
    "print(ratings_df['rating'].min())"
   ]
  },
  {
   "cell_type": "code",
   "execution_count": 91,
   "metadata": {},
   "outputs": [
    {
     "data": {
      "image/png": "[encoded data removed]",
      "text/plain": [
       "<Figure size 432x288 with 1 Axes>"
      ]
     },
     "metadata": {
      "needs_background": "light"
     },
     "output_type": "display_data"
    }
   ],
   "source": [
    "plt.hist(ratings_df['rating'], bins=5,rwidth=0.8)\n",
    "plt.xlabel('Rating')\n",
    "plt.ylabel('Count')\n",
    "plt.show()\n"
   ]
  },
  {
   "cell_type": "code",
   "execution_count": 92,
   "metadata": {},
   "outputs": [
    {
     "data": {
      "image/png": "[encoded data removed]",
      "text/plain": [
       "<Figure size 432x288 with 1 Axes>"
      ]
     },
     "metadata": {
      "needs_background": "light"
     },
     "output_type": "display_data"
    }
   ],
   "source": [
    "plt.hist(ratings_df['userId'], bins=100,rwidth=0.8)\n",
    "plt.xlabel('User Id')\n",
    "plt.ylabel('Count')\n",
    "plt.show()"
   ]
  },
  {
   "cell_type": "code",
   "execution_count": 93,
   "metadata": {},
   "outputs": [],
   "source": [
    "train_df, val_df = train_test_split(ratings_df,test_size=0.2)\n",
    "train_df = train_df.reset_index()[['userId','movieId','rating']]\n",
    "val_df = val_df.reset_index()[['userId','movieId','rating']]"
   ]
  },
  {
   "cell_type": "code",
   "execution_count": 94,
   "metadata": {},
   "outputs": [],
   "source": [
    "def encode_field(data):\n",
    "    keys = data.unique()\n",
    "    key_to_id = {key:idx for idx,key in enumerate(keys) }\n",
    "    return key_to_id, np.array([key_to_id[i] for i in data]), len(keys)\n"
   ]
  },
  {
   "cell_type": "code",
   "execution_count": 95,
   "metadata": {},
   "outputs": [],
   "source": [
    "def encode_dataframe(df):\n",
    "    key_user_ids, df['userId'],num_user = encode_field(df['userId'])\n",
    "    key_movie_ids, df['movieId'], num_movie = encode_field(df['movieId'])\n",
    "    return df, key_user_ids, key_movie_ids, num_user, num_movie\n",
    "    "
   ]
  },
  {
   "cell_type": "code",
   "execution_count": 96,
   "metadata": {},
   "outputs": [
    {
     "name": "stdout",
     "output_type": "stream",
     "text": [
      "610 9004\n",
      "(100836, 3)\n"
     ]
    }
   ],
   "source": [
    "movie_df, user_ids, movie_ids, num_user, num_movie = encode_dataframe(train_df)\n",
    "print(num_user,num_movie)\n",
    "print(ratings_df.shape)"
   ]
  },
  {
   "cell_type": "code",
   "execution_count": 97,
   "metadata": {},
   "outputs": [],
   "source": [
    "def sparse_matrix(df,num_rows,num_cols,column='rating'):\n",
    "    return csc_matrix((df[column].values,(df['userId'].values,df['movieId'].values)),shape = (num_rows,num_cols))"
   ]
  },
  {
   "cell_type": "code",
   "execution_count": 98,
   "metadata": {},
   "outputs": [],
   "source": [
    "def create_embedding_matrix(rows,cols):\n",
    "    return 5*np.random.random((rows,cols))/cols"
   ]
  },
  {
   "cell_type": "code",
   "execution_count": 99,
   "metadata": {},
   "outputs": [],
   "source": [
    "Y = sparse_matrix(movie_df,num_user,num_movie)"
   ]
  },
  {
   "cell_type": "code",
   "execution_count": 100,
   "metadata": {},
   "outputs": [],
   "source": [
    "lmbda = 0.0002\n",
    "def predict(df,embed_user,embed_movie):\n",
    "    df['prediction'] = np.sum(np.multiply(embed_movie[df['movieId']],embed_user[df['userId']]),axis=1)\n",
    "    return df"
   ]
  },
  {
   "cell_type": "code",
   "execution_count": 101,
   "metadata": {},
   "outputs": [],
   "source": [
    "def cost(df,embed_user,embed_movie):\n",
    "    Y = sparse_matrix(df,embed_user.shape[0],embed_movie.shape[0])\n",
    "    prediction = sparse_matrix(predict(df,embed_user,embed_movie),embed_user.shape[0],embed_movie.shape[0],column = 'prediction')\n",
    "    return np.sum((Y-prediction).power(2))/df.shape[0]"
   ]
  },
  {
   "cell_type": "code",
   "execution_count": 102,
   "metadata": {},
   "outputs": [
    {
     "data": {
      "text/plain": [
       "4.236668068031279"
      ]
     },
     "execution_count": 102,
     "metadata": {},
     "output_type": "execute_result"
    }
   ],
   "source": [
    "embed_user = create_embedding_matrix(num_user,3)\n",
    "embed_anime = create_embedding_matrix(num_movie,3)\n",
    "predict(movie_df,embed_user,embed_anime)\n",
    "cost(movie_df,embed_user,embed_anime)"
   ]
  },
  {
   "cell_type": "code",
   "execution_count": 103,
   "metadata": {},
   "outputs": [],
   "source": [
    "def gradient(df ,embed_user,embed_movie):\n",
    "    predicted = sparse_matrix(predict(df, embed_user, embed_movie), embed_user.shape[0], embed_movie.shape[0], 'prediction')\n",
    "    Y = sparse_matrix(df,embed_user.shape[0],embed_movie.shape[0])\n",
    "    delta = Y - predicted\n",
    "    grad_user = (-2/df.shape[0])*(delta*embed_movie) + 2*lmbda*embed_user\n",
    "    grad_movie = (-2/df.shape[0])*(delta.T*embed_user) + 2*lmbda*embed_movie\n",
    "    return grad_user, grad_movie"
   ]
  },
  {
   "cell_type": "code",
   "execution_count": 104,
   "metadata": {},
   "outputs": [],
   "source": [
    "def gradient_descent(df, embed_user, embed_movie, iterations=2000, learning_rate=0.01, df_val=None):\n",
    "\n",
    "    beta = 0.9\n",
    "    Y = sparse_matrix(df,embed_user.shape[0],embed_movie.shape[0])\n",
    "    grad_user, grad_movie = gradient(df, embed_user, embed_movie)\n",
    "    v_user = grad_user\n",
    "    v_movie = grad_movie\n",
    "    for i in range(iterations):\n",
    "        grad_user, grad_movie = gradient(df, embed_user, embed_movie)\n",
    "        v_user = beta*v_user + (1-beta)*grad_user\n",
    "        v_movie = beta*v_movie + (1-beta)*grad_movie\n",
    "        embed_user = embed_user - learning_rate*v_user\n",
    "        embed_movie = embed_movie - learning_rate*v_movie\n",
    "        if(not (i+1)%50):\n",
    "            print(\"\\niteration\", i+1, \":\")\n",
    "            print(\"train mse:\",  cost(df, embed_user, embed_movie))\n",
    "            if df_val is not None:\n",
    "                print(\"validation mse:\",  cost(df_val, embed_user, embed_movie))\n",
    "    return embed_user, embed_movie"
   ]
  },
  {
   "cell_type": "code",
   "execution_count": 105,
   "metadata": {},
   "outputs": [
    {
     "name": "stdout",
     "output_type": "stream",
     "text": [
      "\n",
      "iteration 50 :\n",
      "train mse: 3.350611414726433\n",
      "\n",
      "iteration 100 :\n",
      "train mse: 2.5811647657121504\n",
      "\n",
      "iteration 150 :\n",
      "train mse: 2.1625329461438993\n",
      "\n",
      "iteration 200 :\n",
      "train mse: 1.9065550069017896\n",
      "\n",
      "iteration 250 :\n",
      "train mse: 1.7348749219023745\n",
      "\n",
      "iteration 300 :\n",
      "train mse: 1.6112412459901149\n",
      "\n",
      "iteration 350 :\n",
      "train mse: 1.5175660410833707\n",
      "\n",
      "iteration 400 :\n",
      "train mse: 1.4439877678908644\n",
      "\n",
      "iteration 450 :\n",
      "train mse: 1.3846480118784654\n",
      "\n",
      "iteration 500 :\n",
      "train mse: 1.3358127310559442\n",
      "\n",
      "iteration 550 :\n",
      "train mse: 1.2949708288903388\n",
      "\n",
      "iteration 600 :\n",
      "train mse: 1.26036352574761\n",
      "\n",
      "iteration 650 :\n",
      "train mse: 1.2307191722901398\n",
      "\n",
      "iteration 700 :\n",
      "train mse: 1.2050942812534478\n",
      "\n",
      "iteration 750 :\n",
      "train mse: 1.1827735044811114\n",
      "\n",
      "iteration 800 :\n",
      "train mse: 1.1632042553164386\n",
      "\n",
      "iteration 850 :\n",
      "train mse: 1.1459526429281044\n",
      "\n",
      "iteration 900 :\n",
      "train mse: 1.1306730026911969\n",
      "\n",
      "iteration 950 :\n",
      "train mse: 1.117086362385375\n",
      "\n",
      "iteration 1000 :\n",
      "train mse: 1.1049649300943623\n",
      "\n",
      "iteration 1050 :\n",
      "train mse: 1.0941207284201169\n",
      "\n",
      "iteration 1100 :\n",
      "train mse: 1.0843971383123092\n",
      "\n",
      "iteration 1150 :\n",
      "train mse: 1.0756625195543037\n",
      "\n",
      "iteration 1200 :\n",
      "train mse: 1.0678053362894793\n",
      "\n",
      "iteration 1250 :\n",
      "train mse: 1.0607303886786377\n",
      "\n",
      "iteration 1300 :\n",
      "train mse: 1.054355868031322\n",
      "\n",
      "iteration 1350 :\n",
      "train mse: 1.0486110323134792\n",
      "\n",
      "iteration 1400 :\n",
      "train mse: 1.0434343542104056\n",
      "\n",
      "iteration 1450 :\n",
      "train mse: 1.0387720328649004\n",
      "\n",
      "iteration 1500 :\n",
      "train mse: 1.0345767881969734\n",
      "\n",
      "iteration 1550 :\n",
      "train mse: 1.0308068767757679\n",
      "\n",
      "iteration 1600 :\n",
      "train mse: 1.0274252828643462\n",
      "\n",
      "iteration 1650 :\n",
      "train mse: 1.024399049066644\n",
      "\n",
      "iteration 1700 :\n",
      "train mse: 1.0216987190589386\n",
      "\n",
      "iteration 1750 :\n",
      "train mse: 1.0192978709438514\n",
      "\n",
      "iteration 1800 :\n",
      "train mse: 1.01717272435864\n",
      "\n",
      "iteration 1850 :\n",
      "train mse: 1.0153018079832266\n",
      "\n",
      "iteration 1900 :\n",
      "train mse: 1.0136656768022407\n",
      "\n",
      "iteration 1950 :\n",
      "train mse: 1.0122466705792912\n",
      "\n",
      "iteration 2000 :\n",
      "train mse: 1.0110287066474501\n"
     ]
    }
   ],
   "source": [
    "emb_user = create_embedding_matrix(num_user, 4)\n",
    "emb_movie = create_embedding_matrix(num_movie, 4)\n",
    "emb_user, emb_movie = gradient_descent(movie_df, emb_user, emb_movie, iterations=2000, learning_rate=0.5)\n"
   ]
  },
  {
   "cell_type": "code",
   "execution_count": 106,
   "metadata": {},
   "outputs": [],
   "source": [
    "def encode_new_data(val_df,key_user_ids, key_movie_ids):\n",
    "    val_index = val_df['movieId'].isin(key_movie_ids.keys()) & val_df['userId'].isin(key_user_ids.keys())\n",
    "    val_df = val_df[val_index]\n",
    "    val_df['movieId'] = np.array([key_movie_ids[i] for i in val_df['movieId']])\n",
    "    val_df['userId'] = np.array([key_user_ids[i] for i in val_df['userId']])\n",
    "    return val_df"
   ]
  },
  {
   "cell_type": "code",
   "execution_count": 107,
   "metadata": {},
   "outputs": [
    {
     "name": "stdout",
     "output_type": "stream",
     "text": [
      "(20168, 3)\n",
      "(19395, 3)\n"
     ]
    },
    {
     "name": "stderr",
     "output_type": "stream",
     "text": [
      "C:\\Users\\cheta\\AppData\\Local\\Temp\\ipykernel_23024\\3317590743.py:4: SettingWithCopyWarning: \n",
      "A value is trying to be set on a copy of a slice from a DataFrame.\n",
      "Try using .loc[row_indexer,col_indexer] = value instead\n",
      "\n",
      "See the caveats in the documentation: https://pandas.pydata.org/pandas-docs/stable/user_guide/indexing.html#returning-a-view-versus-a-copy\n",
      "  val_df['movieId'] = np.array([key_movie_ids[i] for i in val_df['movieId']])\n",
      "C:\\Users\\cheta\\AppData\\Local\\Temp\\ipykernel_23024\\3317590743.py:5: SettingWithCopyWarning: \n",
      "A value is trying to be set on a copy of a slice from a DataFrame.\n",
      "Try using .loc[row_indexer,col_indexer] = value instead\n",
      "\n",
      "See the caveats in the documentation: https://pandas.pydata.org/pandas-docs/stable/user_guide/indexing.html#returning-a-view-versus-a-copy\n",
      "  val_df['userId'] = np.array([key_user_ids[i] for i in val_df['userId']])\n"
     ]
    }
   ],
   "source": [
    "print(val_df.shape)\n",
    "val_df_encoded = encode_new_data(val_df,user_ids,movie_ids)\n",
    "print(val_df_encoded.shape)"
   ]
  },
  {
   "cell_type": "code",
   "execution_count": 108,
   "metadata": {},
   "outputs": [
    {
     "name": "stdout",
     "output_type": "stream",
     "text": [
      "1.0110287066474501 1.1005134450230252\n"
     ]
    },
    {
     "name": "stderr",
     "output_type": "stream",
     "text": [
      "C:\\Users\\cheta\\AppData\\Local\\Temp\\ipykernel_23024\\1519558760.py:3: SettingWithCopyWarning: \n",
      "A value is trying to be set on a copy of a slice from a DataFrame.\n",
      "Try using .loc[row_indexer,col_indexer] = value instead\n",
      "\n",
      "See the caveats in the documentation: https://pandas.pydata.org/pandas-docs/stable/user_guide/indexing.html#returning-a-view-versus-a-copy\n",
      "  df['prediction'] = np.sum(np.multiply(embed_movie[df['movieId']],embed_user[df['userId']]),axis=1)\n"
     ]
    }
   ],
   "source": [
    "train_mse = cost(train_df,emb_user,emb_movie)\n",
    "val_mse = cost(val_df_encoded,emb_user,emb_movie)\n",
    "print(train_mse,val_mse)"
   ]
  },
  {
   "cell_type": "code",
   "execution_count": null,
   "metadata": {},
   "outputs": [],
   "source": []
  },
  {
   "cell_type": "markdown",
   "metadata": {},
   "source": [
    "# Neural Net Model"
   ]
  },
  {
   "cell_type": "code",
   "execution_count": 109,
   "metadata": {},
   "outputs": [],
   "source": [
    "from zipfile import ZipFile\n",
    "import tensorflow as tf\n",
    "from tensorflow import keras\n",
    "from tensorflow.keras import layers\n",
    "from pathlib import Path"
   ]
  },
  {
   "cell_type": "code",
   "execution_count": 110,
   "metadata": {},
   "outputs": [],
   "source": [
    "ratings_df[10:20]\n",
    "user_ids = ratings_df[\"userId\"].unique().tolist()\n",
    "user2user_encoded = {x: i for i, x in enumerate(user_ids)}\n",
    "userencoded2user = {i: x for i, x in enumerate(user_ids)}\n",
    "movie_ids = ratings_df[\"movieId\"].unique().tolist()\n",
    "movie2movie_encoded = {x: i for i, x in enumerate(movie_ids)}\n",
    "movie_encoded2movie = {i: x for i, x in enumerate(movie_ids)}\n",
    "ratings_df[\"user\"] = ratings_df[\"userId\"].map(user2user_encoded)\n",
    "ratings_df[\"movie\"] = ratings_df[\"movieId\"].map(movie2movie_encoded)\n"
   ]
  },
  {
   "cell_type": "code",
   "execution_count": 111,
   "metadata": {},
   "outputs": [
    {
     "name": "stdout",
     "output_type": "stream",
     "text": [
      "Number of users: 610, Number of Movies: 9724, Min rating: 0.5, Max rating: 5.0\n"
     ]
    }
   ],
   "source": [
    "num_users = len(user2user_encoded)\n",
    "num_movies = len(movie_encoded2movie)\n",
    "ratings_df[\"rating\"] = ratings_df[\"rating\"].values.astype(np.float32)\n",
    "# min and max ratings will be used to normalize the ratings later\n",
    "min_rating = min(ratings_df[\"rating\"])\n",
    "max_rating = max(ratings_df[\"rating\"])\n",
    "\n",
    "print(\n",
    "    \"Number of users: {}, Number of Movies: {}, Min rating: {}, Max rating: {}\".format(\n",
    "        num_users, num_movies, min_rating, max_rating\n",
    "    )\n",
    ")"
   ]
  },
  {
   "cell_type": "code",
   "execution_count": 112,
   "metadata": {},
   "outputs": [],
   "source": [
    "train_df, val_df = train_test_split(ratings_df,test_size=0.1)"
   ]
  },
  {
   "cell_type": "code",
   "execution_count": 113,
   "metadata": {},
   "outputs": [
    {
     "name": "stdout",
     "output_type": "stream",
     "text": [
      "(100836, 5) (90752, 5) (10084, 5)\n",
      "(90752, 2) (90752,) (10084, 2) (10084,)\n"
     ]
    }
   ],
   "source": [
    "print(ratings_df.shape, train_df.shape, val_df.shape)\n",
    "x_train = train_df[[\"user\", \"movie\"]].values\n",
    "y_train = train_df[\"rating\"].values\n",
    "x_val = val_df[[\"user\", \"movie\"]].values\n",
    "y_val = val_df[\"rating\"].values\n",
    "print(x_train.shape, y_train.shape, x_val.shape, y_val.shape)"
   ]
  },
  {
   "cell_type": "code",
   "execution_count": 114,
   "metadata": {},
   "outputs": [],
   "source": [
    "class Recommender(keras.Model):\n",
    "    def __init__(self,num_users,num_movies,embedding_size,**kwargs):\n",
    "        super(Recommender,self).__init__(**kwargs)\n",
    "        \n",
    "        self.num_users = num_users\n",
    "        self.num_movies = num_movies\n",
    "        self.embedding_size = embedding_size\n",
    "        self.input_layer = layers.Input(shape=[1])\n",
    "        self.user_embedding = layers.Embedding(\n",
    "            num_users,\n",
    "            embedding_size,\n",
    "            embeddings_initializer=\"he_normal\",\n",
    "            embeddings_regularizer=keras.regularizers.l2(1e-6),\n",
    "        )\n",
    "        self.user_flatten = layers.Flatten()\n",
    "        self.movie_embedding = layers.Embedding(\n",
    "            num_movies,\n",
    "            embedding_size,\n",
    "            embeddings_initializer=\"he_normal\",\n",
    "            embeddings_regularizer=keras.regularizers.l2(1e-6),\n",
    "        )\n",
    "        \n",
    "        self.movie_flatten = layers.Flatten()\n",
    "        self.dot_layer = layers.Dot(axes=1)\n",
    "        self.dense_layer1 = layers.Dense(150,activation=\"relu\",kernel_initializer=\"he_normal\")\n",
    "        self.dense_layer2 = layers.Dense(50,activation=\"relu\",kernel_initializer=\"he_normal\")\n",
    "        self.dense_layer3 = layers.Dense(1,activation=\"relu\")\n",
    "        \n",
    "    \n",
    "    def call(self,inputs):\n",
    "        \n",
    "        user_vector = self.user_embedding(inputs[:,0])\n",
    "        user_vector = self.user_flatten(user_vector)\n",
    "        movie_vector = self.movie_embedding(inputs[:,1])\n",
    "        movie_vector = self.movie_flatten(movie_vector)\n",
    "        dot = self.dot_layer([user_vector,movie_vector])\n",
    "        x = self.dense_layer1(dot)\n",
    "        x = self.dense_layer2(x)\n",
    "        x = self.dense_layer3(x)\n",
    "        return x\n",
    "\n",
    "\n"
   ]
  },
  {
   "cell_type": "code",
   "execution_count": 131,
   "metadata": {},
   "outputs": [
    {
     "name": "stdout",
     "output_type": "stream",
     "text": [
      "Epoch 1/5\n",
      "1418/1418 [==============================] - 9s 6ms/step - loss: 3.4795 - val_loss: 1.6743\n",
      "Epoch 2/5\n",
      "1418/1418 [==============================] - 9s 6ms/step - loss: 1.4428 - val_loss: 1.2550\n",
      "Epoch 3/5\n",
      "1418/1418 [==============================] - 9s 6ms/step - loss: 1.2093 - val_loss: 1.1332\n",
      "Epoch 4/5\n",
      "1418/1418 [==============================] - 10s 7ms/step - loss: 1.1383 - val_loss: 1.1036\n",
      "Epoch 5/5\n",
      "1418/1418 [==============================] - 9s 6ms/step - loss: 1.1163 - val_loss: 1.0822\n"
     ]
    }
   ],
   "source": [
    "model = Recommender(num_users,num_movies,50)\n",
    "model.compile(\n",
    "    optimizer=keras.optimizers.Adam(learning_rate=0.1),\n",
    "    loss=keras.losses.MeanSquaredError(),\n",
    ")\n",
    "history = model.fit(\n",
    "    x=x_train,\n",
    "    y=y_train,\n",
    "    batch_size=64,\n",
    "    epochs=5,\n",
    "    verbose=1,\n",
    "    validation_data=(x_val, y_val),\n",
    ")"
   ]
  },
  {
   "cell_type": "code",
   "execution_count": 116,
   "metadata": {},
   "outputs": [
    {
     "name": "stdout",
     "output_type": "stream",
     "text": [
      "Model: \"recommender_1\"\n",
      "_________________________________________________________________\n",
      " Layer (type)                Output Shape              Param #   \n",
      "=================================================================\n",
      " embedding_2 (Embedding)     multiple                  30500     \n",
      "                                                                 \n",
      " flatten_2 (Flatten)         multiple                  0         \n",
      "                                                                 \n",
      " embedding_3 (Embedding)     multiple                  486200    \n",
      "                                                                 \n",
      " flatten_3 (Flatten)         multiple                  0         \n",
      "                                                                 \n",
      " dot_1 (Dot)                 multiple                  0         \n",
      "                                                                 \n",
      " dense_3 (Dense)             multiple                  300       \n",
      "                                                                 \n",
      " dense_4 (Dense)             multiple                  7550      \n",
      "                                                                 \n",
      " dense_5 (Dense)             multiple                  51        \n",
      "                                                                 \n",
      "=================================================================\n",
      "Total params: 524,601\n",
      "Trainable params: 524,601\n",
      "Non-trainable params: 0\n",
      "_________________________________________________________________\n"
     ]
    }
   ],
   "source": [
    "model.summary()\n"
   ]
  },
  {
   "cell_type": "code",
   "execution_count": 132,
   "metadata": {},
   "outputs": [
    {
     "data": {
      "image/png": "[encoded data removed]",
      "text/plain": [
       "<Figure size 432x288 with 1 Axes>"
      ]
     },
     "metadata": {
      "needs_background": "light"
     },
     "output_type": "display_data"
    }
   ],
   "source": [
    "plt.plot(history.history[\"loss\"])\n",
    "plt.plot(history.history[\"val_loss\"])\n",
    "plt.title(\"model loss\")\n",
    "plt.ylabel(\"loss\")\n",
    "plt.xlabel(\"epoch\")\n",
    "plt.legend([\"train\", \"test\"], loc=\"upper left\")\n",
    "plt.show()"
   ]
  },
  {
   "cell_type": "code",
   "execution_count": 118,
   "metadata": {},
   "outputs": [
    {
     "data": {
      "text/html": [
       "<div>\n",
       "<style scoped>\n",
       "    .dataframe tbody tr th:only-of-type {\n",
       "        vertical-align: middle;\n",
       "    }\n",
       "\n",
       "    .dataframe tbody tr th {\n",
       "        vertical-align: top;\n",
       "    }\n",
       "\n",
       "    .dataframe thead th {\n",
       "        text-align: right;\n",
       "    }\n",
       "</style>\n",
       "<table border=\"1\" class=\"dataframe\">\n",
       "  <thead>\n",
       "    <tr style=\"text-align: right;\">\n",
       "      <th></th>\n",
       "      <th>movieId</th>\n",
       "      <th>title</th>\n",
       "      <th>genres</th>\n",
       "    </tr>\n",
       "  </thead>\n",
       "  <tbody>\n",
       "    <tr>\n",
       "      <th>0</th>\n",
       "      <td>1</td>\n",
       "      <td>Toy Story (1995)</td>\n",
       "      <td>Adventure|Animation|Children|Comedy|Fantasy</td>\n",
       "    </tr>\n",
       "    <tr>\n",
       "      <th>1</th>\n",
       "      <td>2</td>\n",
       "      <td>Jumanji (1995)</td>\n",
       "      <td>Adventure|Children|Fantasy</td>\n",
       "    </tr>\n",
       "    <tr>\n",
       "      <th>2</th>\n",
       "      <td>3</td>\n",
       "      <td>Grumpier Old Men (1995)</td>\n",
       "      <td>Comedy|Romance</td>\n",
       "    </tr>\n",
       "    <tr>\n",
       "      <th>3</th>\n",
       "      <td>4</td>\n",
       "      <td>Waiting to Exhale (1995)</td>\n",
       "      <td>Comedy|Drama|Romance</td>\n",
       "    </tr>\n",
       "    <tr>\n",
       "      <th>4</th>\n",
       "      <td>5</td>\n",
       "      <td>Father of the Bride Part II (1995)</td>\n",
       "      <td>Comedy</td>\n",
       "    </tr>\n",
       "  </tbody>\n",
       "</table>\n",
       "</div>"
      ],
      "text/plain": [
       "   movieId                               title  \\\n",
       "0        1                    Toy Story (1995)   \n",
       "1        2                      Jumanji (1995)   \n",
       "2        3             Grumpier Old Men (1995)   \n",
       "3        4            Waiting to Exhale (1995)   \n",
       "4        5  Father of the Bride Part II (1995)   \n",
       "\n",
       "                                        genres  \n",
       "0  Adventure|Animation|Children|Comedy|Fantasy  \n",
       "1                   Adventure|Children|Fantasy  \n",
       "2                               Comedy|Romance  \n",
       "3                         Comedy|Drama|Romance  \n",
       "4                                       Comedy  "
      ]
     },
     "execution_count": 118,
     "metadata": {},
     "output_type": "execute_result"
    }
   ],
   "source": [
    "movie_df = pd.read_csv(movielens_dir /\"movies.csv\")\n",
    "movie_df.head()"
   ]
  },
  {
   "cell_type": "code",
   "execution_count": 119,
   "metadata": {},
   "outputs": [
    {
     "data": {
      "text/html": [
       "<div>\n",
       "<style scoped>\n",
       "    .dataframe tbody tr th:only-of-type {\n",
       "        vertical-align: middle;\n",
       "    }\n",
       "\n",
       "    .dataframe tbody tr th {\n",
       "        vertical-align: top;\n",
       "    }\n",
       "\n",
       "    .dataframe thead th {\n",
       "        text-align: right;\n",
       "    }\n",
       "</style>\n",
       "<table border=\"1\" class=\"dataframe\">\n",
       "  <thead>\n",
       "    <tr style=\"text-align: right;\">\n",
       "      <th></th>\n",
       "      <th>userId</th>\n",
       "      <th>movieId</th>\n",
       "      <th>rating</th>\n",
       "      <th>user</th>\n",
       "      <th>movie</th>\n",
       "    </tr>\n",
       "  </thead>\n",
       "  <tbody>\n",
       "    <tr>\n",
       "      <th>0</th>\n",
       "      <td>1</td>\n",
       "      <td>1</td>\n",
       "      <td>4.0</td>\n",
       "      <td>0</td>\n",
       "      <td>0</td>\n",
       "    </tr>\n",
       "    <tr>\n",
       "      <th>1</th>\n",
       "      <td>1</td>\n",
       "      <td>3</td>\n",
       "      <td>4.0</td>\n",
       "      <td>0</td>\n",
       "      <td>1</td>\n",
       "    </tr>\n",
       "    <tr>\n",
       "      <th>2</th>\n",
       "      <td>1</td>\n",
       "      <td>6</td>\n",
       "      <td>4.0</td>\n",
       "      <td>0</td>\n",
       "      <td>2</td>\n",
       "    </tr>\n",
       "    <tr>\n",
       "      <th>3</th>\n",
       "      <td>1</td>\n",
       "      <td>47</td>\n",
       "      <td>5.0</td>\n",
       "      <td>0</td>\n",
       "      <td>3</td>\n",
       "    </tr>\n",
       "    <tr>\n",
       "      <th>4</th>\n",
       "      <td>1</td>\n",
       "      <td>50</td>\n",
       "      <td>5.0</td>\n",
       "      <td>0</td>\n",
       "      <td>4</td>\n",
       "    </tr>\n",
       "  </tbody>\n",
       "</table>\n",
       "</div>"
      ],
      "text/plain": [
       "   userId  movieId  rating  user  movie\n",
       "0       1        1     4.0     0      0\n",
       "1       1        3     4.0     0      1\n",
       "2       1        6     4.0     0      2\n",
       "3       1       47     5.0     0      3\n",
       "4       1       50     5.0     0      4"
      ]
     },
     "execution_count": 119,
     "metadata": {},
     "output_type": "execute_result"
    }
   ],
   "source": [
    "ratings_df.head()"
   ]
  },
  {
   "cell_type": "code",
   "execution_count": 120,
   "metadata": {},
   "outputs": [
    {
     "name": "stdout",
     "output_type": "stream",
     "text": [
      "282/282 [==============================] - 1s 2ms/step\n"
     ]
    }
   ],
   "source": [
    "user_id = ratings_df.userId.sample(1).iloc[0]\n",
    "movies_watched_by_user = ratings_df[ratings_df.userId == user_id]\n",
    "movies_not_watched = movie_df[\n",
    "    ~movie_df['movieId'].isin(movies_watched_by_user.movieId.values)\n",
    "]['movieId']\n",
    "movies_not_watched = list(\n",
    "    set(movies_not_watched).intersection(set(movie2movie_encoded.keys()))\n",
    ")\n",
    "movies_not_watched = [[movie2movie_encoded.get(x)] for x in movies_not_watched]\n",
    "user_encoder = user2user_encoded.get(user_id)\n",
    "user_movie_array = np.hstack(\n",
    "    ([[user_encoder]] * len(movies_not_watched), movies_not_watched)\n",
    ")\n",
    "ratings = model.predict(user_movie_array).flatten()\n",
    "top_ratings_indices = ratings.argsort()[-10:][::-1]\n",
    "recommended_movie_ids = [\n",
    "    movie_encoded2movie.get(movies_not_watched[x][0]) for x in top_ratings_indices\n",
    "]\n"
   ]
  },
  {
   "cell_type": "code",
   "execution_count": 121,
   "metadata": {},
   "outputs": [
    {
     "name": "stdout",
     "output_type": "stream",
     "text": [
      "Showing recommendations for user: 19\n",
      "====================================\n",
      "Movies with high ratings from user\n",
      "--------------------------------\n",
      "Nightmare Before Christmas, The (1993) : Animation|Children|Fantasy|Musical\n",
      "Rear Window (1954) : Mystery|Thriller\n",
      "Maltese Falcon, The (1941) : Film-Noir|Mystery\n",
      "Princess Bride, The (1987) : Action|Adventure|Comedy|Fantasy|Romance\n",
      "Ferris Bueller's Day Off (1986) : Comedy\n",
      "--------------------------------\n",
      "Top 10 movie recommendations\n",
      "--------------------------------\n",
      "Usual Suspects, The (1995) : Crime|Mystery|Thriller\n",
      "Pulp Fiction (1994) : Comedy|Crime|Drama|Thriller\n",
      "Shawshank Redemption, The (1994) : Crime|Drama\n",
      "Paths of Glory (1957) : Drama|War\n",
      "Seven Samurai (Shichinin no samurai) (1954) : Action|Adventure|Drama\n",
      "Yojimbo (1961) : Action|Adventure\n",
      "Memento (2000) : Mystery|Thriller\n",
      "Amelie (Fabuleux destin d'Amélie Poulain, Le) (2001) : Comedy|Romance\n",
      "Kill Bill: Vol. 1 (2003) : Action|Crime|Thriller\n",
      "Inglourious Basterds (2009) : Action|Drama|War\n"
     ]
    }
   ],
   "source": [
    "# print(user_movie_array.shape,len(movies_not_watched))\n",
    "# print(user_movie_array)\n",
    "# print(movies_not_watched)\n",
    "# print(ratings.argsort())\n",
    "# print(movies_not_watched[])\n",
    "print(\"Showing recommendations for user: {}\".format(user_id))\n",
    "print(\"====\" * 9)\n",
    "print(\"Movies with high ratings from user\")\n",
    "print(\"----\" * 8)\n",
    "top_movies_user = (\n",
    "    movies_watched_by_user.sort_values(by=\"rating\", ascending=False)\n",
    "    .head(5)\n",
    "    .movieId.values\n",
    ")\n",
    "movie_df_rows = movie_df[movie_df['movieId'].isin(top_movies_user)]\n",
    "# print(movie_df_rows)\n",
    "for row in movie_df_rows.itertuples():\n",
    "    print(row.title, \":\", row.genres)\n",
    "\n",
    "print(\"----\" * 8)\n",
    "print(\"Top 10 movie recommendations\")\n",
    "print(\"----\" * 8)\n",
    "recommended_movies = movie_df[movie_df['movieId'].isin(recommended_movie_ids)]\n",
    "for row in recommended_movies.itertuples():\n",
    "    print(row.title, \":\", row.genres)\n",
    "    \n"
   ]
  }
 ],
 "metadata": {
  "kernelspec": {
   "display_name": "Python 3 (ipykernel)",
   "language": "python",
   "name": "python3"
  },
  "language_info": {
   "codemirror_mode": {
    "name": "ipython",
    "version": 3
   },
   "file_extension": ".py",
   "mimetype": "text/x-python",
   "name": "python",
   "nbconvert_exporter": "python",
   "pygments_lexer": "ipython3",
   "version": "3.10.4"
  },
  "vscode": {
   "interpreter": {
    "hash": "c9b58781d1fa8134ac2ec6cc898ef119ce6179b951012c321b666aa023aba281"
   }
  }
 },
 "nbformat": 4,
 "nbformat_minor": 2
}
